{
  "nbformat": 4,
  "nbformat_minor": 0,
  "metadata": {
    "colab": {
      "provenance": [],
      "authorship_tag": "ABX9TyM+Nu4sfGeNtcHx8wZphkCC",
      "include_colab_link": true
    },
    "kernelspec": {
      "name": "python3",
      "display_name": "Python 3"
    },
    "language_info": {
      "name": "python"
    }
  },
  "cells": [
    {
      "cell_type": "markdown",
      "metadata": {
        "id": "view-in-github",
        "colab_type": "text"
      },
      "source": [
        "<a href=\"https://colab.research.google.com/github/prashanthakg6/ALA/blob/main/ProblemSet1.ipynb\" target=\"_parent\"><img src=\"https://colab.research.google.com/assets/colab-badge.svg\" alt=\"Open In Colab\"/></a>"
      ]
    },
    {
      "cell_type": "code",
      "execution_count": null,
      "metadata": {
        "id": "4Vya4o41JkxA"
      },
      "outputs": [],
      "source": [
        "!pip install gensim"
      ]
    },
    {
      "cell_type": "code",
      "source": [
        "import numpy as np\n",
        "import torch\n",
        "import matplotlib.pyplot as plt\n",
        "plt.style.use('dark_background')\n",
        "%matplotlib inline\n",
        "import sys\n",
        "from sklearn.preprocessing import StandardScaler, OneHotEncoder, MinMaxScaler\n",
        "import nltk\n",
        "import gensim.downloader\n",
        "from nltk.tokenize import word_tokenize"
      ],
      "metadata": {
        "id": "2Kb1Dhx8Khgz"
      },
      "execution_count": null,
      "outputs": []
    },
    {
      "cell_type": "markdown",
      "source": [
        "Writing the norm of v and rms of v using dot products\n",
        "\n",
        "(a) Express ∥v∥ and rms(v) using only dot product(s). You may use 1 to represent the vector full of ones."
      ],
      "metadata": {
        "id": "J-XQsD4ZoypY"
      }
    },
    {
      "cell_type": "code",
      "source": [
        "x = torch.tensor([1.0, 2.0, 3.0], dtype = torch.float64)\n",
        "print(x)\n",
        "like_one = torch.ones_like(x)\n",
        "print(like_one)\n",
        "\n",
        "#compute norm\n",
        "vector_norm = torch.sqrt(torch.dot(x, like_one))\n",
        "print(vector_norm)\n",
        "\n",
        "#Compute RMS\n",
        "rms = vector_norm /len(x)\n",
        "print(len(x))\n",
        "print(rms)"
      ],
      "metadata": {
        "id": "8JgZjbo3M6Fe",
        "colab": {
          "base_uri": "https://localhost:8080/"
        },
        "outputId": "88900f1d-2d5a-474c-dc9f-14ee48999685"
      },
      "execution_count": null,
      "outputs": [
        {
          "output_type": "stream",
          "name": "stdout",
          "text": [
            "tensor([1., 2., 3.], dtype=torch.float64)\n",
            "tensor([1., 1., 1.], dtype=torch.float64)\n",
            "tensor(2.4495, dtype=torch.float64)\n",
            "3\n",
            "tensor(0.8165, dtype=torch.float64)\n"
          ]
        }
      ]
    },
    {
      "cell_type": "markdown",
      "source": [
        " (b) For any vector v, its de-meaned or mean-centered version is the vector vm"
      ],
      "metadata": {
        "id": "AgzK9a9kuTFK"
      }
    },
    {
      "cell_type": "code",
      "source": [
        "# the mean of v\n",
        "\n",
        "x_avg = torch.mean(x)\n",
        "print(x_avg)\n",
        "\n",
        "#de-meaned value of v\n",
        "x_m = x - x_avg\n",
        "print(x_m)"
      ],
      "metadata": {
        "colab": {
          "base_uri": "https://localhost:8080/"
        },
        "id": "GqtaGag9uZzl",
        "outputId": "1cceee2a-8ad4-47dc-a05b-b4a92e67268b"
      },
      "execution_count": null,
      "outputs": [
        {
          "output_type": "stream",
          "name": "stdout",
          "text": [
            "tensor(2., dtype=torch.float64)\n",
            "tensor([-1.,  0.,  1.], dtype=torch.float64)\n"
          ]
        }
      ]
    },
    {
      "cell_type": "markdown",
      "source": [
        "(c) Compute avg(v)"
      ],
      "metadata": {
        "id": "XGogZaEOv03V"
      }
    },
    {
      "cell_type": "code",
      "source": [
        "x_m_avg = torch.mean(x_m)\n",
        "print(x_m_avg)"
      ],
      "metadata": {
        "colab": {
          "base_uri": "https://localhost:8080/"
        },
        "id": "6xmtunwAvqYV",
        "outputId": "7f907f5c-7a4c-4248-b43c-6e0bfae090da"
      },
      "execution_count": null,
      "outputs": [
        {
          "output_type": "stream",
          "name": "stdout",
          "text": [
            "tensor(0., dtype=torch.float64)\n"
          ]
        }
      ]
    },
    {
      "cell_type": "markdown",
      "source": [
        "(d) The standard deviation of the vector"
      ],
      "metadata": {
        "id": "fyMOCsyzwP4O"
      }
    },
    {
      "cell_type": "code",
      "source": [
        "std_x = torch.sqrt(torch.sum(x_m**2)/len(x))\n",
        "print(std_x)"
      ],
      "metadata": {
        "colab": {
          "base_uri": "https://localhost:8080/"
        },
        "id": "c5xz7xN2wUQv",
        "outputId": "0b41ba99-e039-42d3-8e1b-6683aeb9b1fc"
      },
      "execution_count": null,
      "outputs": [
        {
          "output_type": "stream",
          "name": "stdout",
          "text": [
            "tensor(0.8165, dtype=torch.float64)\n"
          ]
        }
      ]
    },
    {
      "cell_type": "markdown",
      "source": [
        "\n",
        "(e) Compute std(cv) in terms of std(v), where c is a real constant"
      ],
      "metadata": {
        "id": "wXvsCYyPxQ9j"
      }
    },
    {
      "cell_type": "code",
      "source": [
        "c = 3\n",
        "x_const = c * x\n",
        "std_cx = torch.sqrt(torch.sum((x_const - torch.mean(x_const)) ** 2) / len(x))\n",
        "print(std_cx)\n"
      ],
      "metadata": {
        "colab": {
          "base_uri": "https://localhost:8080/"
        },
        "id": "_q3AiclexTSm",
        "outputId": "0ee27b5b-ab78-4f49-ed86-29036f808d9f"
      },
      "execution_count": null,
      "outputs": [
        {
          "output_type": "stream",
          "name": "stdout",
          "text": [
            "tensor(2.4495, dtype=torch.float64)\n"
          ]
        }
      ]
    },
    {
      "cell_type": "markdown",
      "source": [
        "(f) . Standardized version of Vector also called as z-score vector\n"
      ],
      "metadata": {
        "id": "HVsBdjk5y7KB"
      }
    },
    {
      "cell_type": "code",
      "source": [
        "# these are z-scores values\n",
        "x_s = (x_m/std_x)\n",
        "print(x_s)\n",
        "\n",
        "# avg z-scores values\n",
        "avg_x_s = torch.mean(x_s)\n",
        "print(avg_x_s)\n",
        "\n",
        "# this is the mean-centered z-scores values\n",
        "mean_centered_x_s = x_s - avg_x_s\n",
        "print(mean_centered_x_s)\n",
        "\n",
        "# this is std_deviation of z-scores\n",
        "std_x_s = torch.sqrt(torch.sum(mean_centered_x_s)**2)/len(x_s)\n",
        "print(std_x_s)"
      ],
      "metadata": {
        "colab": {
          "base_uri": "https://localhost:8080/"
        },
        "id": "xn7fP_GszGAp",
        "outputId": "edf91d57-a894-4fc6-a581-91f19e2bc067"
      },
      "execution_count": null,
      "outputs": [
        {
          "output_type": "stream",
          "name": "stdout",
          "text": [
            "tensor([-1.2247,  0.0000,  1.2247], dtype=torch.float64)\n",
            "tensor(0., dtype=torch.float64)\n",
            "tensor([-1.2247,  0.0000,  1.2247], dtype=torch.float64)\n",
            "tensor(0., dtype=torch.float64)\n"
          ]
        }
      ]
    },
    {
      "cell_type": "markdown",
      "source": [
        "(g). The Correlation"
      ],
      "metadata": {
        "id": "3XSoU6Sw33LY"
      }
    },
    {
      "cell_type": "code",
      "source": [
        "a = torch.tensor([1.0,2.0,3.0])\n",
        "b = torch.tensor([4.0,5.0,6.0])\n",
        "a_m = a - torch.mean(a)\n",
        "print(a_m)\n",
        "b_m = b - torch.mean(b)\n",
        "print(b_m)\n",
        "\n",
        "res = (torch.dot(a_m,b_m))/(torch.norm(a_m)*torch.norm(b_m))\n",
        "print(res)"
      ],
      "metadata": {
        "colab": {
          "base_uri": "https://localhost:8080/"
        },
        "id": "FvCua2_G38CE",
        "outputId": "c3359e05-1d42-4ffd-ca87-520055ace669"
      },
      "execution_count": null,
      "outputs": [
        {
          "output_type": "stream",
          "name": "stdout",
          "text": [
            "tensor([-1.,  0.,  1.])\n",
            "tensor([-1.,  0.,  1.])\n",
            "tensor(1.0000)\n"
          ]
        }
      ]
    },
    {
      "cell_type": "markdown",
      "source": [
        "(h)."
      ],
      "metadata": {
        "id": "TONaLS614IA6"
      }
    },
    {
      "cell_type": "code",
      "source": [
        "a_s = a_m / torch.std(a)\n",
        "b_s = b_m / torch.std(b)\n",
        "corr2 = torch.dot(a_s, b_s) / len(a)\n",
        "print(corr2)"
      ],
      "metadata": {
        "colab": {
          "base_uri": "https://localhost:8080/"
        },
        "id": "O_ihaeR44VlT",
        "outputId": "f7f07766-1969-4d4d-feeb-89265cf35347"
      },
      "execution_count": null,
      "outputs": [
        {
          "output_type": "stream",
          "name": "stdout",
          "text": [
            "tensor(0.6667)\n"
          ]
        }
      ]
    },
    {
      "cell_type": "markdown",
      "source": [
        "---- 2nd Problem\n",
        "\n",
        "(a) rms(a)"
      ],
      "metadata": {
        "id": "G1fUSviJCHol"
      }
    },
    {
      "cell_type": "code",
      "source": [
        "a = torch.tensor([0.0, -1.0, -2.0], dtype=torch.float64)\n",
        "b = torch.tensor([0.0,  1.0,  2.0], dtype=torch.float64)\n",
        "\n",
        "n = len(a)\n",
        "print(n)\n",
        "\n",
        "rms_a = torch.sqrt(torch.dot(a, a)/ len(a))\n",
        "print(f'RMS of a is: {rms_a}')\n",
        "\n",
        "# -- (b). avg(b)\n",
        "\n",
        "avg_b = torch.mean(b)\n",
        "print(f'Average value of b is: {avg_b}')\n",
        "\n",
        "# --- (c) avg(−3b).\n",
        "avg_negb = torch.mean(-3 * b)\n",
        "print(f'Average value of -3b is: {avg_negb}')\n",
        "\n",
        "#--- (d).std(a)\n",
        "\n",
        "a_centered  = a - torch.mean(a)\n",
        "print(a_centered)\n",
        "std_a = torch.sqrt(torch.sum(a_centered ** 2) / n)\n",
        "print(f'Standard deviation of a is: {std_a}')\n",
        "\n",
        "#-----(e).std(−3a)\n",
        "\n",
        "neg3a = -3 * a\n",
        "neg3a_centered = neg3a - torch.mean(neg3a)\n",
        "std_neg3a = torch.sqrt(torch.sum(neg3a_centered ** 2)/ n)\n",
        "print(f'Standard deviation of -3a is: {std_neg3a}')\n",
        "\n",
        "#--- (f) The correlation coefficient between a and b.\n",
        "\n",
        "a_centered = a - torch.mean(a)\n",
        "b_centered = b - torch.mean(b)\n",
        "\n",
        "#Compute numerator = dot product of centered vectors\n",
        "numerator = torch.dot(a_centered, b_centered)\n",
        "\n",
        "#Compute denominator = dot product of centered vectors\n",
        "denominator = torch.sqrt(torch.dot(a_centered, a_centered)) * torch.sqrt(torch.dot(b_centered, b_centered))\n",
        "\n",
        "corr_ab = numerator / denominator\n",
        "print(f'Correalation coefficient of a and b is: {corr_ab}')\n",
        "\n",
        "#----- (g) The distance between a and b\n",
        "\n",
        "dis = torch.norm(a - b)\n",
        "print(f'Distance between a and b is: {dis}')\n",
        "\n",
        "#--- (h) The angle between a and b\n",
        "norm_a = torch.norm(a)\n",
        "norm_b = torch.norm(b)\n",
        "dot_pro = torch.dot(a,b)/(norm_a * norm_b)\n",
        "rad = torch.acos(dot_pro)\n",
        "print(rad)\n",
        "deg = torch.rad2deg(rad)\n",
        "print(f'The angle between a and b is:\\n')\n",
        "print(deg)\n",
        "\n",
        "\n",
        "\n"
      ],
      "metadata": {
        "colab": {
          "base_uri": "https://localhost:8080/"
        },
        "id": "CCwNuXb_CQXs",
        "outputId": "6e0694f0-7837-4682-d863-975f65e01b8b"
      },
      "execution_count": null,
      "outputs": [
        {
          "output_type": "stream",
          "name": "stdout",
          "text": [
            "3\n",
            "RMS of a is: 1.2909944487358056\n",
            "Average value of b is: 1.0\n",
            "Average value of -3b is: -3.0\n",
            "tensor([ 1.,  0., -1.], dtype=torch.float64)\n",
            "Standard deviation of a is: 0.816496580927726\n",
            "Standard deviation of -3a is: 2.449489742783178\n",
            "Correalation coefficient of a and b is: -0.9999999999999998\n",
            "Distance between a and b is: 4.47213595499958\n",
            "tensor(3.1416, dtype=torch.float64)\n",
            "The angle between a and b is:\n",
            "\n",
            "tensor(180.0000, dtype=torch.float64)\n"
          ]
        }
      ]
    },
    {
      "cell_type": "code",
      "source": [
        "# 7th i\n",
        "\n",
        "A = torch.tensor([[0,0,0,0,1],\n",
        "                  [1,0,0,0,0],\n",
        "                  [0,1,0,0,0],\n",
        "                  [0,0,1,0,0],\n",
        "                  [0,0,0,1,0]],dtype=torch.float64)\n",
        "\n",
        "x = torch.tensor([1,2,3,4,5],dtype=torch.float64)\n",
        "\n",
        "Ax = torch.matmul(A,x)\n",
        "print(Ax)\n",
        "#shows te movement of matrix in dim-0\n",
        "A2 = torch.matmul(A,A)\n",
        "print(A2)\n",
        "\n",
        "A5 = torch.matmul(torch.matmul(torch.matmul(A,A2),A),A)\n",
        "print(A5)\n",
        "\n",
        "A5x = torch.matmul(A5,x)\n",
        "print(A5x)"
      ],
      "metadata": {
        "colab": {
          "base_uri": "https://localhost:8080/"
        },
        "id": "vvmR6IIeTpb0",
        "outputId": "10a40466-46f3-4430-e94d-85697b41c491"
      },
      "execution_count": null,
      "outputs": [
        {
          "output_type": "stream",
          "name": "stdout",
          "text": [
            "tensor([5., 1., 2., 3., 4.], dtype=torch.float64)\n",
            "tensor([[0., 0., 0., 1., 0.],\n",
            "        [0., 0., 0., 0., 1.],\n",
            "        [1., 0., 0., 0., 0.],\n",
            "        [0., 1., 0., 0., 0.],\n",
            "        [0., 0., 1., 0., 0.]], dtype=torch.float64)\n",
            "tensor([[1., 0., 0., 0., 0.],\n",
            "        [0., 1., 0., 0., 0.],\n",
            "        [0., 0., 1., 0., 0.],\n",
            "        [0., 0., 0., 1., 0.],\n",
            "        [0., 0., 0., 0., 1.]], dtype=torch.float64)\n",
            "tensor([1., 2., 3., 4., 5.], dtype=torch.float64)\n"
          ]
        }
      ]
    }
  ]
}